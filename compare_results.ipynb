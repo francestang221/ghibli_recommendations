{
 "cells": [
  {
   "cell_type": "code",
   "execution_count": 1,
   "id": "63d98e47-2bdf-46da-8cb3-0bc9d23ce688",
   "metadata": {},
   "outputs": [
    {
     "name": "stdout",
     "output_type": "stream",
     "text": [
      "Combined comparison for totoro saved!\n",
      "Combined comparison for howl saved!\n",
      "Combined comparison for kiki saved!\n"
     ]
    }
   ],
   "source": [
    "import pandas as pd\n",
    "# RMSE for collaborative filtering\n",
    "from surprise import Dataset, Reader, SVD\n",
    "from surprise.model_selection import train_test_split\n",
    "from surprise.accuracy import rmse\n",
    "import pandas as pd\n",
    "\n",
    "movies = {\n",
    "    \"Totoro\": {\n",
    "        \"content_path\": \"totoro_content_based.csv\",\n",
    "        \"collaborative_path\": \"totoro_collaborative.csv\",\n",
    "        \"output_path\": \"totoro_combined_comparison.csv\"\n",
    "    },\n",
    "    \"Howl\": {\n",
    "        \"content_path\": \"howl_content_based.csv\",\n",
    "        \"collaborative_path\": \"howl_collaborative.csv\",\n",
    "        \"output_path\": \"howl_combined_comparison.csv\"\n",
    "    },\n",
    "    \"Kiki\": {\n",
    "        \"content_path\": \"kiki_content_based.csv\",\n",
    "        \"collaborative_path\": \"kiki_collaborative.csv\",\n",
    "        \"output_path\": \"kiki_combined_comparison.csv\"\n",
    "    }\n",
    "}\n",
    "\n",
    "def process_movie(content_path, collaborative_path, output_path):\n",
    "    content_df = pd.read_csv(content_path)\n",
    "    collaborative_df = pd.read_csv(collaborative_path)\n",
    "\n",
    "    combined_df = pd.concat(\n",
    "        [\n",
    "            content_df.rename(columns={\n",
    "                \"Recommended Movies\": \"Content-Based: Name\",\n",
    "                \"Cosine Similarity\": \"Content-Based: Score\"\n",
    "            })[['Content-Based: Name', 'Content-Based: Score']],\n",
    "            collaborative_df.rename(columns={\n",
    "                \"Movie Name\": \"Collaborative: Name\",\n",
    "                \"Similarity Score\": \"Collaborative: Score\"\n",
    "            })[['Collaborative: Name', 'Collaborative: Score']]\n",
    "        ],\n",
    "        axis=1\n",
    "    )\n",
    "    \n",
    "\n",
    "    combined_df['Content-Based: Score'] = combined_df['Content-Based: Score'].round(3)\n",
    "    combined_df['Collaborative: Score'] = combined_df['Collaborative: Score'].round(3)\n",
    "\n",
    "    combined_df.to_csv(output_path, index=False)\n",
    "    print(f\"Combined comparison for {output_path.split('_')[0]} saved!\")\n",
    "\n",
    "for movie, paths in movies.items():\n",
    "    process_movie(paths[\"content_path\"], paths[\"collaborative_path\"], paths[\"output_path\"])\n"
   ]
  },
  {
   "cell_type": "code",
   "execution_count": 3,
   "id": "ec58fe3e-8a28-47c3-89ff-10b982e2e91c",
   "metadata": {},
   "outputs": [
    {
     "name": "stdout",
     "output_type": "stream",
     "text": [
      "                     Movie  Precision (Content-Based)  Recall (Content-Based)  \\\n",
      "0       My Neighbor Totoro                        0.4                     0.4   \n",
      "1     Howl's Moving Castle                        0.4                     0.4   \n",
      "2  Kiki's Delivery Service                        0.2                     0.2   \n",
      "\n",
      "                Overlap (Relevant Movies)  \n",
      "0  Spirited Away, Kiki's Delivery Service  \n",
      "1    Princess Mononoke, Castle in the Sky  \n",
      "2                      My Neighbor Totoro  \n"
     ]
    }
   ],
   "source": [
    "# Precision Recall\n",
    "\n",
    "def calculate_precision_recall(combined_csv_path):\n",
    "    df = pd.read_csv(combined_csv_path)\n",
    "    \n",
    "    # Normalize names for consistency (e.g., \"Laputa: Castle in the Sky\" → \"Castle in the Sky\")\n",
    "    df['Content-Based: Name'] = df['Content-Based: Name'].str.strip().str.replace(\"Laputa: Castle in the Sky\", \"Castle in the Sky\", regex=False)\n",
    "    df['Collaborative: Name'] = df['Collaborative: Name'].str.strip().str.replace(\"Laputa: Castle in the Sky\", \"Castle in the Sky\", regex=False)\n",
    "    \n",
    "    content_based = set(df['Content-Based: Name'])\n",
    "    collaborative = set(df['Collaborative: Name'])\n",
    "    \n",
    "    overlap = content_based.intersection(collaborative)\n",
    "    \n",
    "    precision = len(overlap) / len(content_based) if len(content_based) > 0 else 0\n",
    "    recall = len(overlap) / len(collaborative) if len(collaborative) > 0 else 0\n",
    "    \n",
    "    return precision, recall, list(overlap)\n",
    "\n",
    "movies = [\n",
    "    {\"file\": \"totoro_combined_comparison.csv\", \"name\": \"My Neighbor Totoro\"},\n",
    "    {\"file\": \"howl_combined_comparison.csv\", \"name\": \"Howl's Moving Castle\"},\n",
    "    {\"file\": \"kiki_combined_comparison.csv\", \"name\": \"Kiki's Delivery Service\"}\n",
    "]\n",
    "\n",
    "results = []\n",
    "\n",
    "for movie in movies:\n",
    "    precision, recall, overlap = calculate_precision_recall(f\"{movie['file']}\")\n",
    "    results.append({\n",
    "        \"Movie\": movie[\"name\"],\n",
    "        \"Precision (Content-Based)\": round(precision, 2),\n",
    "        \"Recall (Content-Based)\": round(recall, 2),\n",
    "        \"Overlap (Relevant Movies)\": \", \".join(overlap)  # Include overlapping movies\n",
    "    })\n",
    "\n",
    "results_df = pd.DataFrame(results)\n",
    "\n",
    "print(results_df)\n",
    "\n",
    "results_df.to_csv(\"calculated_precision_recall.csv\", index=False)\n",
    "\n"
   ]
  },
  {
   "cell_type": "code",
   "execution_count": 1,
   "id": "d5c83184-2a07-4cbe-b33a-7e03bb3a7e7c",
   "metadata": {},
   "outputs": [
    {
     "name": "stdout",
     "output_type": "stream",
     "text": [
      "RMSE: 0.8871\n",
      "RMSE: 0.8870778187204674\n",
      "  User   Item  Actual Rating  Predicted Rating\n",
      "0  523  31658            5.0              4.36\n",
      "1  103  31658            4.5              4.05\n",
      "2  414   5618            5.0              4.46\n",
      "3  434   5618            5.0              4.20\n",
      "4  606   6350            4.0              4.30\n"
     ]
    }
   ],
   "source": [
    "# RMSE for collaborative filtering\n",
    "from surprise import Dataset, Reader, SVD\n",
    "from surprise.model_selection import train_test_split\n",
    "from surprise.accuracy import rmse\n",
    "import pandas as pd\n",
    "\n",
    "ratings_file = 'prepared_ratings.csv' \n",
    "reader = Reader(line_format='user item rating timestamp', sep=',', skip_lines=1)\n",
    "data = Dataset.load_from_file(ratings_file, reader=reader)\n",
    "\n",
    "trainset, testset = train_test_split(data, test_size=0.2)\n",
    "\n",
    "model = SVD()\n",
    "model.fit(trainset)\n",
    "\n",
    "predictions = model.test(testset)\n",
    "\n",
    "model_rmse = rmse(predictions, verbose=True)\n",
    "\n",
    "results = [{\n",
    "    'User': pred.uid,\n",
    "    'Item': pred.iid,\n",
    "    'Actual Rating': pred.r_ui,\n",
    "    'Predicted Rating': round(pred.est, 2)\n",
    "} for pred in predictions]\n",
    "\n",
    "results_df = pd.DataFrame(results)\n",
    "\n",
    "results_df.to_csv(\"collaborative_filtering_predictions.csv\", index=False)\n",
    "\n",
    "print(f\"RMSE: {model_rmse}\")\n",
    "print(results_df.head())"
   ]
  },
  {
   "cell_type": "code",
   "execution_count": null,
   "id": "62545d2e-e223-4ad7-8b3e-6eec8db6ec97",
   "metadata": {},
   "outputs": [],
   "source": []
  },
  {
   "cell_type": "code",
   "execution_count": null,
   "id": "5fabdce6-6e0e-4987-ae74-cfbca458a585",
   "metadata": {},
   "outputs": [],
   "source": []
  }
 ],
 "metadata": {
  "kernelspec": {
   "display_name": "Python 3 (ipykernel)",
   "language": "python",
   "name": "python3"
  },
  "language_info": {
   "codemirror_mode": {
    "name": "ipython",
    "version": 3
   },
   "file_extension": ".py",
   "mimetype": "text/x-python",
   "name": "python",
   "nbconvert_exporter": "python",
   "pygments_lexer": "ipython3",
   "version": "3.12.2"
  }
 },
 "nbformat": 4,
 "nbformat_minor": 5
}
