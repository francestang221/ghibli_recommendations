{
 "cells": [
  {
   "cell_type": "code",
   "execution_count": 4,
   "id": "6e1beeab-84ee-4113-870f-a92ad8b05584",
   "metadata": {},
   "outputs": [
    {
     "name": "stdout",
     "output_type": "stream",
     "text": [
      "Saved similar movies for 'My Neighbor Totoro' to totoro_collaborative.csv\n",
      "Saved similar movies for 'Howl's Moving Castle' to howl_collaborative.csv\n",
      "Saved similar movies for 'Kiki's Delivery Service' to kiki_collaborative.csv\n"
     ]
    }
   ],
   "source": [
    "import pandas as pd\n",
    "from sklearn.metrics.pairwise import cosine_similarity\n",
    "from scipy.sparse import csr_matrix\n",
    "\n",
    "ratings_data = pd.read_csv('prepared_ratings.csv')\n",
    "\n",
    "user_item_matrix = ratings_data.pivot_table(\n",
    "    index='userId', columns='movieId', values='rating'\n",
    ").fillna(0)\n",
    "\n",
    "\n",
    "sparse_matrix = csr_matrix(user_item_matrix)\n",
    "\n",
    "item_similarity = cosine_similarity(sparse_matrix.T)\n",
    "\n",
    "item_similarity_df = pd.DataFrame(\n",
    "    item_similarity,\n",
    "    index=user_item_matrix.columns,\n",
    "    columns=user_item_matrix.columns\n",
    ")\n",
    "\n",
    "movie_id_to_name = ratings_data[['movieId', 'name']].drop_duplicates().set_index('movieId')['name'].to_dict()\n",
    "\n",
    "def get_similar_movies(movie_id, top_n=5):\n",
    "    \"\"\"Get the top N most similar movies to the given movie ID.\"\"\"\n",
    "    if movie_id not in item_similarity_df.index:\n",
    "        return f\"Movie ID {movie_id} not found in the dataset.\"\n",
    "    similar_scores = item_similarity_df[movie_id].sort_values(ascending=False)\n",
    "    similar_movies = similar_scores.iloc[1:top_n + 1]  # Skip the first (self-similarity)\n",
    "    # Map movie IDs to names and scores \n",
    "    similar_movies_named = [\n",
    "        (m_id, movie_id_to_name.get(m_id, \"Unknown\"), score)\n",
    "        for m_id, score in similar_movies.items()\n",
    "    ]\n",
    "    return similar_movies_named\n",
    "\n",
    "def save_similar_movies_to_csv(movie_name, file_name, top_n=5):\n",
    "    \"\"\"Find similar movies for a given movie name and save results to a CSV file.\"\"\"\n",
    "    # Get the movieId for the given movie name\n",
    "    movie_id = ratings_data[ratings_data['name'] == movie_name]['movieId'].unique()\n",
    "    if len(movie_id) == 0:\n",
    "        print(f\"Movie '{movie_name}' not found.\")\n",
    "        return\n",
    "    movie_id = movie_id[0]\n",
    "    \n",
    "    # Get similar movies\n",
    "    similar_movies = get_similar_movies(movie_id, top_n=top_n)\n",
    "    \n",
    "    # Prepare DataFrame for saving\n",
    "    similar_movies_df = pd.DataFrame(similar_movies, columns=['Movie ID', 'Movie Name', 'Similarity Score'])\n",
    "    similar_movies_df.to_csv(file_name, index=False)\n",
    "    print(f\"Saved similar movies for '{movie_name}' to {file_name}\")\n",
    "\n",
    "# Save results for the three specified movies\n",
    "save_similar_movies_to_csv(\"My Neighbor Totoro\", \"totoro_collaborative.csv\")\n",
    "save_similar_movies_to_csv(\"Howl's Moving Castle\", \"howl_collaborative.csv\")\n",
    "save_similar_movies_to_csv(\"Kiki's Delivery Service\", \"kiki_collaborative.csv\")\n",
    "\n",
    "\n",
    "\n"
   ]
  },
  {
   "cell_type": "code",
   "execution_count": null,
   "id": "c2cbba08-8e10-4d58-a7da-e47ab6c2d7d8",
   "metadata": {},
   "outputs": [],
   "source": []
  },
  {
   "cell_type": "code",
   "execution_count": null,
   "id": "03fc6d8f-1cce-4978-925b-0fcbef0e25cf",
   "metadata": {},
   "outputs": [],
   "source": []
  }
 ],
 "metadata": {
  "kernelspec": {
   "display_name": "Python 3 (ipykernel)",
   "language": "python",
   "name": "python3"
  },
  "language_info": {
   "codemirror_mode": {
    "name": "ipython",
    "version": 3
   },
   "file_extension": ".py",
   "mimetype": "text/x-python",
   "name": "python",
   "nbconvert_exporter": "python",
   "pygments_lexer": "ipython3",
   "version": "3.12.2"
  }
 },
 "nbformat": 4,
 "nbformat_minor": 5
}
