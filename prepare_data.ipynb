{
 "cells": [
  {
   "cell_type": "code",
   "execution_count": 1,
   "id": "ae94c712-bafd-494c-bc98-dbb9a5a5361b",
   "metadata": {},
   "outputs": [
    {
     "name": "stdout",
     "output_type": "stream",
     "text": [
      "                                             Name  Year              Director  \\\n",
      "0            When Marnie Was There\\n       (2014)  2014  Hiromasa Yonebayashi   \n",
      "1  The Tale of The Princess Kaguya\\n       (2013)  2013         Isao Takahata   \n",
      "2                   The Wind Rises\\n       (2013)  2013        Hayao Miyazaki   \n",
      "3            From Up on Poppy Hill\\n       (2011)  2011         Goro Miyazaki   \n",
      "4     The Secret World of Arrietty\\n       (2010)  2010  Hiromasa Yonebayashi   \n",
      "\n",
      "         Screenplay          Budget        Revenue    Genre 1    Genre 2  \\\n",
      "0  Joan G. Robinson  $1150000000.00   $34949567.00  Animation      Drama   \n",
      "1    Riko Sakaguchi    $49300000.00   $24366656.00  Animation      Drama   \n",
      "2       Tatsuo Hori    $30000000.00  $117932401.00      Drama  Animation   \n",
      "3    Hayao Miyazaki    $22000000.00   $61037844.00  Animation      Drama   \n",
      "4       Mary Norton    $23000000.00  $149480483.00    Fantasy  Animation   \n",
      "\n",
      "   Genre 3 Duration  \n",
      "0      NaN   1h 43m  \n",
      "1  Fantasy   2h 17m  \n",
      "2  Romance    2h 6m  \n",
      "3      NaN   1h 31m  \n",
      "4   Family   1h 34m  \n"
     ]
    }
   ],
   "source": [
    "# Prepares Studio Ghibli.csv for both content-based filtering and collaborative filtering experiments.\n",
    "# This script processes the data and generates three output CSV files:\n",
    "# 1. prepared_ghibli.csv: Contains Ghibli movie IDs extracted from MovieLens's movies dataset and standardized titles for consistency.\n",
    "# 2. prepared_genres.csv: Lists Ghibli movie titles alongside their genres.\n",
    "# 3. prepared_ratings.csv: Combines Ghibli movie ratings from the MovieLens ratings dataset with their corresponding movie titles.\n",
    "\n",
    "import pandas as pd\n",
    "\n",
    "movies = pd.read_csv('Studio Ghibli.csv')\n",
    "print(movies.head())"
   ]
  },
  {
   "cell_type": "code",
   "execution_count": 2,
   "id": "8d5650e5-aa1e-4d0e-86a9-e5ef2c1af612",
   "metadata": {},
   "outputs": [
    {
     "name": "stdout",
     "output_type": "stream",
     "text": [
      "      movieId                                name\n",
      "2260     3000                   Princess Mononoke\n",
      "3984     5618                       Spirited Away\n",
      "4025     5690              Grave of the Fireflies\n",
      "4151     5971                  My Neighbor Totoro\n",
      "4348     6350           Laputa: Castle in the Sky\n",
      "4769     7099  Nausicaä of the Valley of the Wind\n",
      "5546    26662             Kiki's Delivery Service\n",
      "5566    26743                      Only Yesterday\n",
      "5572    26776                         Porco Rosso\n",
      "5596    26903                Whisper of the Heart\n",
      "5791    31658                Howl's Moving Castle\n",
      "5842    32456                            Pom Poko\n",
      "6944    65261                               Ponyo\n",
      "7499    83132        The Secret World of Arrietty\n",
      "8047    98604               From Up on Poppy Hill\n",
      "8241   104283                      The Wind Rises\n",
      "8520   114554         The Tale of Princess Kaguya\n"
     ]
    }
   ],
   "source": [
    "# crosscheck Studio Ghibli.csv and movies.csv and filter out common movies\n",
    "movies_df = pd.read_csv('movies.csv')\n",
    "keywords = [\n",
    "    \"Kaguya\", \"Wind Rises\", \"Ponyo\", \"Poppy Hill\", \"Arrietty\", \"Only Yesterday\",\n",
    "    \"Spirited Away\", \"Whisper of the Heart\", \"Grave of the fireflies\", \"Totoro\",\n",
    "    \"Mononoke\", \"Moving Castle\", \"Castle in the Sky\", \"Kiki\",\n",
    "    \"Pom Poko\", \"Porco Rosso\", \"Valley of the Wind\"\n",
    "]\n",
    "keywords = [kw.lower() for kw in keywords]\n",
    "\n",
    "# Clean up and standardize titles\n",
    "movies_df['name'] = (\n",
    "    movies_df['title']\n",
    "    .str.strip()\n",
    "    .str.replace(r\"\\s\\([^()]*\\)\", \"\", regex=True)  # Remove text in parentheses\n",
    "    .str.replace(r\"^(.*), The$\", r\"The \\1\", regex=True)  # Add \"The \" to the front\n",
    ")\n",
    "\n",
    "\n",
    "# Filter movies based on keywords\n",
    "filtered_movies = movies_df[movies_df['name'].str.lower().str.contains('|'.join(keywords), na=False)]\n",
    "\n",
    "# Save the movieIds and cleaned titles of Ghibli movies into a separate file\n",
    "filtered_movies[['movieId', 'name']].to_csv('prepared_ghibli.csv', index=False)\n",
    "\n",
    "# Display the result\n",
    "print(filtered_movies[['movieId', 'name']])"
   ]
  },
  {
   "cell_type": "code",
   "execution_count": 5,
   "id": "9ea0677c-0bd5-4d44-8940-0c9fb0997ed0",
   "metadata": {},
   "outputs": [
    {
     "name": "stdout",
     "output_type": "stream",
     "text": [
      "                                  Name                         Genres\n",
      "1      The Tale of The Princess Kaguya      Animation, Drama, Fantasy\n",
      "2                       The Wind Rises      Drama, Animation, Romance\n",
      "3                From Up on Poppy Hill               Animation, Drama\n",
      "4         The Secret World of Arrietty     Fantasy, Animation, Family\n",
      "5                                Ponyo     Animation, Fantasy, Family\n",
      "8                       Only Yesterday      Animation, Drama, Romance\n",
      "9                        Spirited Away     Animation, Family, Fantasy\n",
      "11                Whisper of the Heart       Animation, Drama, Family\n",
      "12              Grave of the Fireflies          Animation, Drama, War\n",
      "13                  My Neighbor Totoro     Fantasy, Animation, Family\n",
      "14                   Princess Mononoke  Adventure, Fantasy, Animation\n",
      "15                Howl's Moving Castle  Fantasy, Animation, Adventure\n",
      "16                   Castle in the Sky  Adventure, Fantasy, Animation\n",
      "17             Kiki's Delivery Service     Animation, Family, Fantasy\n",
      "18                            Pom Poko  Adventure, Animation, Fantasy\n",
      "19                         Porco Rosso      Family, Comedy, Animation\n",
      "21  Nausicaä of the Valley of the Wind  Adventure, Animation, Fantasy\n"
     ]
    }
   ],
   "source": [
    "# Grab the same list of Ghibli movies and their genres\n",
    "studio_ghibli_df = pd.read_csv('Studio Ghibli.csv')\n",
    "studio_ghibli_df['Name_cleaned'] = studio_ghibli_df['Name'].str.strip().str.lower()\n",
    "filtered_ghibli = studio_ghibli_df[studio_ghibli_df['Name_cleaned'].str.contains('|'.join(keywords), na=False)].copy()\n",
    "\n",
    "# merge Genre 1, 2, 3\n",
    "filtered_ghibli['Genres'] = filtered_ghibli[['Genre 1', 'Genre 2', 'Genre 3']].fillna('').agg(', '.join, axis=1)\n",
    "filtered_ghibli['Genres'] = filtered_ghibli['Genres'].str.replace(', ,', ',', regex=False).str.strip(', ').str.strip()\n",
    "\n",
    "# clean up movie names to exclude new line and year\n",
    "filtered_ghibli['Name'] = filtered_ghibli['Name'].str.replace(r'\\n', '', regex=True)  \n",
    "filtered_ghibli['Name'] = filtered_ghibli['Name'].str.replace(r'\\s*\\(\\d{4}\\)', '', regex=True) \n",
    "\n",
    "# save as a separate file\n",
    "ghibli_genres = filtered_ghibli[['Name', 'Genres']].to_csv('prepared_genres.csv', index=False)\n",
    "\n",
    "print(filtered_ghibli[['Name', 'Genres']])\n"
   ]
  },
  {
   "cell_type": "code",
   "execution_count": 7,
   "id": "a4b95923-55e1-4e65-8e82-a91d176300c8",
   "metadata": {},
   "outputs": [
    {
     "name": "stdout",
     "output_type": "stream",
     "text": [
      "     userId  movieId  rating                     name\n",
      "0         7     5618     5.0            Spirited Away\n",
      "1        15     5618     3.0            Spirited Away\n",
      "2        15     5971     2.0       My Neighbor Totoro\n",
      "3        16     3000     4.0        Princess Mononoke\n",
      "4        16     5618     4.5            Spirited Away\n",
      "..      ...      ...     ...                      ...\n",
      "329     606    26662     4.0  Kiki's Delivery Service\n",
      "330     606    26776     4.0              Porco Rosso\n",
      "331     606    31658     4.0     Howl's Moving Castle\n",
      "332     608     5618     3.5            Spirited Away\n",
      "333     610     5618     4.0            Spirited Away\n",
      "\n",
      "[334 rows x 4 columns]\n"
     ]
    }
   ],
   "source": [
    "# filter out all the ratings that contains ghibli movieIds\n",
    "ghibli_movies = pd.read_csv('prepared_ghibli.csv')\n",
    "ratings = pd.read_csv('ratings.csv')\n",
    "\n",
    "# add the corresponding movie titles to the ratings\n",
    "ghibli_ratings = ratings[ratings['movieId'].isin(ghibli_movies['movieId'])]\n",
    "ghibli_ratings = ghibli_ratings.merge(ghibli_movies, on='movieId', how='left')\n",
    "ghibli_ratings = ghibli_ratings.drop(columns=['timestamp'])\n",
    "ghibli_ratings.to_csv('prepared_ratings.csv', index=False)\n",
    "print(ghibli_ratings)"
   ]
  },
  {
   "cell_type": "code",
   "execution_count": null,
   "id": "67dea8c6-54c3-40c7-93e8-2ef635790975",
   "metadata": {},
   "outputs": [],
   "source": []
  },
  {
   "cell_type": "code",
   "execution_count": null,
   "id": "fa83516f-ff16-47af-85e1-bcdc3f2cc017",
   "metadata": {},
   "outputs": [],
   "source": []
  },
  {
   "cell_type": "code",
   "execution_count": null,
   "id": "f7198ebe-fab2-4cb0-8804-df79322bd6fe",
   "metadata": {},
   "outputs": [],
   "source": []
  },
  {
   "cell_type": "code",
   "execution_count": null,
   "id": "2b4a8f45-d052-422d-b736-e5e700126bb6",
   "metadata": {},
   "outputs": [],
   "source": []
  }
 ],
 "metadata": {
  "kernelspec": {
   "display_name": "Python 3 (ipykernel)",
   "language": "python",
   "name": "python3"
  },
  "language_info": {
   "codemirror_mode": {
    "name": "ipython",
    "version": 3
   },
   "file_extension": ".py",
   "mimetype": "text/x-python",
   "name": "python",
   "nbconvert_exporter": "python",
   "pygments_lexer": "ipython3",
   "version": "3.12.2"
  }
 },
 "nbformat": 4,
 "nbformat_minor": 5
}
